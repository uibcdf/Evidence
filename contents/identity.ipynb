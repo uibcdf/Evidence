{
 "cells": [
  {
   "cell_type": "code",
   "execution_count": null,
   "id": "0e157155-4683-4cac-9a75-0c48ccda6a84",
   "metadata": {},
   "outputs": [],
   "source": [
    "%load_ext autoreload\n",
    "%autoreload 2"
   ]
  },
  {
   "cell_type": "markdown",
   "id": "5edee2e7-165b-4620-ad44-f70006c29883",
   "metadata": {},
   "source": [
    "# Identity"
   ]
  },
  {
   "cell_type": "code",
   "execution_count": 1,
   "id": "181fe4f6-7d73-4f6e-ad21-3915cf3acca6",
   "metadata": {},
   "outputs": [],
   "source": [
    "import evidence as evi"
   ]
  },
  {
   "cell_type": "code",
   "execution_count": 2,
   "id": "66e5a3f3-7776-4b44-bcb5-6d87e6e793c1",
   "metadata": {},
   "outputs": [],
   "source": [
    "datum1 = evi.Evidence(3.12)\n",
    "datum1.add_reference({'database':'DOI', 'id':'XXX'})\n",
    "datum1.add_reference({'database':'PubMed', 'id':'YYY'})"
   ]
  },
  {
   "cell_type": "code",
   "execution_count": 3,
   "id": "0df90517-cee8-4f24-b5f4-e9a389547bbc",
   "metadata": {},
   "outputs": [],
   "source": [
    "datum2 = evi.Evidence(3.12)\n",
    "datum2.add_reference({'database':'DOI', 'id':'XXX'})\n",
    "datum2.add_reference({'database':'PubMed', 'id':'ZZZ'})"
   ]
  },
  {
   "cell_type": "code",
   "execution_count": 4,
   "id": "6dcd5352-d89f-45b9-b0b1-f945e6b32f6e",
   "metadata": {},
   "outputs": [
    {
     "data": {
      "text/plain": [
       "False"
      ]
     },
     "execution_count": 4,
     "metadata": {},
     "output_type": "execute_result"
    }
   ],
   "source": [
    "evi.identity(datum1, datum2)"
   ]
  },
  {
   "cell_type": "code",
   "execution_count": 5,
   "id": "1a74551b-4c8d-42d8-82f4-e62f30821017",
   "metadata": {},
   "outputs": [
    {
     "data": {
      "text/plain": [
       "True"
      ]
     },
     "execution_count": 5,
     "metadata": {},
     "output_type": "execute_result"
    }
   ],
   "source": [
    "evi.identity(datum1, datum1)"
   ]
  },
  {
   "cell_type": "code",
   "execution_count": null,
   "id": "8dd78ab0-0a08-4ec2-ac8a-63ad7235cc37",
   "metadata": {},
   "outputs": [],
   "source": []
  }
 ],
 "metadata": {
  "kernelspec": {
   "display_name": "Python 3 (ipykernel)",
   "language": "python",
   "name": "python3"
  },
  "language_info": {
   "codemirror_mode": {
    "name": "ipython",
    "version": 3
   },
   "file_extension": ".py",
   "mimetype": "text/x-python",
   "name": "python",
   "nbconvert_exporter": "python",
   "pygments_lexer": "ipython3",
   "version": "3.7.10"
  }
 },
 "nbformat": 4,
 "nbformat_minor": 5
}
