{
 "cells": [
  {
   "cell_type": "code",
   "execution_count": 1,
   "id": "0e157155-4683-4cac-9a75-0c48ccda6a84",
   "metadata": {},
   "outputs": [],
   "source": [
    "%load_ext autoreload\n",
    "%autoreload 2"
   ]
  },
  {
   "cell_type": "markdown",
   "id": "5edee2e7-165b-4620-ad44-f70006c29883",
   "metadata": {},
   "source": [
    "# Same value"
   ]
  },
  {
   "cell_type": "code",
   "execution_count": 2,
   "id": "181fe4f6-7d73-4f6e-ad21-3915cf3acca6",
   "metadata": {},
   "outputs": [],
   "source": [
    "import evidence as evi"
   ]
  },
  {
   "cell_type": "code",
   "execution_count": 3,
   "id": "66e5a3f3-7776-4b44-bcb5-6d87e6e793c1",
   "metadata": {},
   "outputs": [],
   "source": [
    "datum1 = evi.Evidence(3.12)\n",
    "datum1.add_reference({'database':'DOI', 'id':'XXX'})\n",
    "\n",
    "datum2 = evi.Evidence(3.12)\n",
    "datum2.add_reference({'database':'PubMed', 'id':'YYY'})\n",
    "\n",
    "datum3 = evi.Evidence(3.12)\n",
    "datum3.add_reference({'database':'PubMed', 'id':'ZZZ'})\n",
    "\n",
    "datum4 = evi.Evidence(6.58)\n",
    "datum4.add_reference({'database':'PubMed', 'id':'ZZZ'})"
   ]
  },
  {
   "cell_type": "code",
   "execution_count": 4,
   "id": "5f406281-8719-488b-ad2f-7f68dc7cc565",
   "metadata": {},
   "outputs": [
    {
     "data": {
      "text/plain": [
       "True"
      ]
     },
     "execution_count": 4,
     "metadata": {},
     "output_type": "execute_result"
    }
   ],
   "source": [
    "datum1.value == datum2.value"
   ]
  },
  {
   "cell_type": "code",
   "execution_count": 6,
   "id": "65a2b040-1ca0-483c-bfe6-ec1efdef4f9d",
   "metadata": {},
   "outputs": [
    {
     "data": {
      "text/plain": [
       "True"
      ]
     },
     "execution_count": 6,
     "metadata": {},
     "output_type": "execute_result"
    }
   ],
   "source": [
    "evi.same_value([datum1, datum2, datum3])"
   ]
  },
  {
   "cell_type": "code",
   "execution_count": 7,
   "id": "7a5a9406-5c18-4351-bb37-8d57917ffa64",
   "metadata": {},
   "outputs": [
    {
     "data": {
      "text/plain": [
       "False"
      ]
     },
     "execution_count": 7,
     "metadata": {},
     "output_type": "execute_result"
    }
   ],
   "source": [
    "evi.same_value([datum1, datum2, datum4])"
   ]
  },
  {
   "cell_type": "code",
   "execution_count": null,
   "id": "ca85a20f-0403-4ab6-af5d-b311c08a5b6f",
   "metadata": {},
   "outputs": [],
   "source": []
  }
 ],
 "metadata": {
  "kernelspec": {
   "display_name": "Python 3 (ipykernel)",
   "language": "python",
   "name": "python3"
  },
  "language_info": {
   "codemirror_mode": {
    "name": "ipython",
    "version": 3
   },
   "file_extension": ".py",
   "mimetype": "text/x-python",
   "name": "python",
   "nbconvert_exporter": "python",
   "pygments_lexer": "ipython3",
   "version": "3.7.10"
  }
 },
 "nbformat": 4,
 "nbformat_minor": 5
}
